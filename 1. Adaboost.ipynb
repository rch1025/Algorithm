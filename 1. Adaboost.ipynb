{
 "cells": [
  {
   "cell_type": "code",
   "execution_count": 39,
   "id": "textile-organization",
   "metadata": {},
   "outputs": [
    {
     "data": {
      "text/html": [
       "<div>\n",
       "<style scoped>\n",
       "    .dataframe tbody tr th:only-of-type {\n",
       "        vertical-align: middle;\n",
       "    }\n",
       "\n",
       "    .dataframe tbody tr th {\n",
       "        vertical-align: top;\n",
       "    }\n",
       "\n",
       "    .dataframe thead th {\n",
       "        text-align: right;\n",
       "    }\n",
       "</style>\n",
       "<table border=\"1\" class=\"dataframe\">\n",
       "  <thead>\n",
       "    <tr style=\"text-align: right;\">\n",
       "      <th></th>\n",
       "      <th>임신</th>\n",
       "      <th>글루코스(탄수화물 화합물)</th>\n",
       "      <th>혈압</th>\n",
       "      <th>피부두께</th>\n",
       "      <th>인슐린</th>\n",
       "      <th>BMI</th>\n",
       "      <th>가족력</th>\n",
       "      <th>나이</th>\n",
       "      <th>당뇨여부</th>\n",
       "    </tr>\n",
       "    <tr>\n",
       "      <th>ID</th>\n",
       "      <th></th>\n",
       "      <th></th>\n",
       "      <th></th>\n",
       "      <th></th>\n",
       "      <th></th>\n",
       "      <th></th>\n",
       "      <th></th>\n",
       "      <th></th>\n",
       "      <th></th>\n",
       "    </tr>\n",
       "  </thead>\n",
       "  <tbody>\n",
       "    <tr>\n",
       "      <th>1</th>\n",
       "      <td>6</td>\n",
       "      <td>148</td>\n",
       "      <td>72</td>\n",
       "      <td>35</td>\n",
       "      <td>0</td>\n",
       "      <td>33.6</td>\n",
       "      <td>0.627</td>\n",
       "      <td>50</td>\n",
       "      <td>1</td>\n",
       "    </tr>\n",
       "    <tr>\n",
       "      <th>3</th>\n",
       "      <td>1</td>\n",
       "      <td>89</td>\n",
       "      <td>66</td>\n",
       "      <td>23</td>\n",
       "      <td>94</td>\n",
       "      <td>28.1</td>\n",
       "      <td>0.167</td>\n",
       "      <td>21</td>\n",
       "      <td>0</td>\n",
       "    </tr>\n",
       "    <tr>\n",
       "      <th>4</th>\n",
       "      <td>0</td>\n",
       "      <td>137</td>\n",
       "      <td>40</td>\n",
       "      <td>35</td>\n",
       "      <td>168</td>\n",
       "      <td>43.1</td>\n",
       "      <td>2.288</td>\n",
       "      <td>33</td>\n",
       "      <td>1</td>\n",
       "    </tr>\n",
       "    <tr>\n",
       "      <th>6</th>\n",
       "      <td>2</td>\n",
       "      <td>197</td>\n",
       "      <td>70</td>\n",
       "      <td>45</td>\n",
       "      <td>543</td>\n",
       "      <td>30.5</td>\n",
       "      <td>0.158</td>\n",
       "      <td>53</td>\n",
       "      <td>1</td>\n",
       "    </tr>\n",
       "    <tr>\n",
       "      <th>8</th>\n",
       "      <td>5</td>\n",
       "      <td>166</td>\n",
       "      <td>72</td>\n",
       "      <td>19</td>\n",
       "      <td>175</td>\n",
       "      <td>25.8</td>\n",
       "      <td>0.587</td>\n",
       "      <td>51</td>\n",
       "      <td>1</td>\n",
       "    </tr>\n",
       "  </tbody>\n",
       "</table>\n",
       "</div>"
      ],
      "text/plain": [
       "    임신  글루코스(탄수화물 화합물)  혈압  피부두께  인슐린   BMI    가족력  나이  당뇨여부\n",
       "ID                                                          \n",
       "1    6             148  72    35    0  33.6  0.627  50     1\n",
       "3    1              89  66    23   94  28.1  0.167  21     0\n",
       "4    0             137  40    35  168  43.1  2.288  33     1\n",
       "6    2             197  70    45  543  30.5  0.158  53     1\n",
       "8    5             166  72    19  175  25.8  0.587  51     1"
      ]
     },
     "execution_count": 39,
     "metadata": {},
     "output_type": "execute_result"
    }
   ],
   "source": [
    "import pandas as pd\n",
    "import numpy as np\n",
    "\n",
    "# 당뇨 데이터 불러오기\n",
    "df = pd.read_excel('diabetes.xlsx', engine=\"openpyxl\", index_col = 0)\n",
    "df.head()"
   ]
  },
  {
   "cell_type": "code",
   "execution_count": 14,
   "id": "broken-clarity",
   "metadata": {},
   "outputs": [
    {
     "name": "stdout",
     "output_type": "stream",
     "text": [
      "(376, 9)\n",
      "\n",
      "0    249\n",
      "1    127\n",
      "Name: 당뇨여부, dtype: int64\n"
     ]
    }
   ],
   "source": [
    "# 데이터 확인\n",
    "print(df.shape)\n",
    "print()\n",
    "\n",
    "# 타겟 변수가 편향 되어 있음\n",
    "print(df.당뇨여부.value_counts())"
   ]
  },
  {
   "cell_type": "code",
   "execution_count": 51,
   "id": "regular-classroom",
   "metadata": {},
   "outputs": [],
   "source": [
    "from sklearn.ensemble import AdaBoostClassifier\n",
    "from sklearn.model_selection import train_test_split\n",
    "from sklearn import metrics\n",
    "\n",
    "# 타겟 변수가 편향 되어 있을때는 '정확도' 보다는 정밀도'를 사용하는게 좋다.\n",
    "# 데이터 분할\n",
    "X_train, X_test, y_train, y_test = train_test_split(df.iloc[:,:8], df.iloc[:,8], test_size=0.3, random_state = 0)\n",
    "\n",
    "# 파라미터를 디폴트 값으로 설정\n",
    "Ada_model = AdaBoostClassifier(n_estimators=50,\n",
    "                         learning_rate=1,\n",
    "                        random_state = 0)\n",
    "\n",
    "# fitting\n",
    "model = Ada_model.fit(X_train, y_train)\n",
    "\n",
    "# predict\n",
    "Ada_pred = model.predict(X_test)"
   ]
  },
  {
   "cell_type": "code",
   "execution_count": 52,
   "id": "acoustic-shoot",
   "metadata": {},
   "outputs": [
    {
     "data": {
      "text/plain": [
       "0.6888888888888889"
      ]
     },
     "execution_count": 52,
     "metadata": {},
     "output_type": "execute_result"
    }
   ],
   "source": [
    "## 정밀도 계산하는 함수\n",
    "\n",
    "def true_positive(y_true, y_pred):\n",
    "    \"\"\"\n",
    "    TP 계산하는 함수\n",
    "    param y_true : 실제 값의 목록\n",
    "    param y_pred : 예측 값의 목록\n",
    "    return : TP의 개수\n",
    "    \"\"\"\n",
    "    # 초기화\n",
    "    tp = 0\n",
    "    for yt, yp in zip(y_true, y_pred):\n",
    "        if yt == 1 and yp == 1:\n",
    "            tp += 1\n",
    "    return tp\n",
    "\n",
    "def true_negative(y_true, y_pred):\n",
    "    \"\"\"\n",
    "    TN을 계산하는 함수\n",
    "    param y_true : 실제 값의 목록\n",
    "    param y_pred : 예측 값의 목록\n",
    "    return : TN의 개수\n",
    "    \"\"\"\n",
    "    # 초기화\n",
    "    tn = 0\n",
    "    for yt, yp in zip(y_true, y_pred):\n",
    "        if yt == 0 and yp == 0:\n",
    "            tn += 1\n",
    "    return tn\n",
    "\n",
    "def false_positive(y_true, y_pred):\n",
    "    \"\"\"\n",
    "    FP을 계산하는 함수\n",
    "    param y_true : 실제 값의 목록\n",
    "    param y_pred : 예측 값의 목록\n",
    "    return : FP의 개수\n",
    "    \"\"\"\n",
    "    # 초기화\n",
    "    fp = 0\n",
    "    for yt, yp in zip(y_true, y_pred):\n",
    "        if yt == 0 and yp == 1:\n",
    "            fp += 1\n",
    "    return fp\n",
    "\n",
    "def false_negative(y_true, y_pred):\n",
    "    \"\"\"\n",
    "    FN을 계산하는 함수\n",
    "    param y_true : 실제 값의 목록\n",
    "    param y_pred : 예측 값의 목록\n",
    "    return : FN의 개수\n",
    "    \"\"\"\n",
    "    # 초기화\n",
    "    fn = 0\n",
    "    for yt, yp in zip(y_true, y_pred):\n",
    "        if yt == 1 and yp == 0:\n",
    "            fn += 1\n",
    "    return fn\n",
    "\n",
    "\n",
    "## 정밀도 구현 코드\n",
    "def precision(y_true, y_pred):\n",
    "    tp = true_positive(y_true, y_pred)\n",
    "    fp = false_positive(y_true, y_pred)\n",
    "    precision = tp / (tp+fp)\n",
    "    return precision\n",
    "\n",
    "# 정밀도 : postive로 예측한 수 중 실제 일치\n",
    "precision(np.array(y_test), Ada_pred)"
   ]
  },
  {
   "cell_type": "code",
   "execution_count": 53,
   "id": "registered-warning",
   "metadata": {},
   "outputs": [
    {
     "name": "stdout",
     "output_type": "stream",
     "text": [
      "accuracy 0.7964601769911505\n",
      "\n",
      "precision 0.6888888888888889\n",
      "\n",
      "recall 0.775\n",
      "\n",
      "f1 0.7294117647058822\n"
     ]
    }
   ],
   "source": [
    "# 사이킷런을 활용하기\n",
    "print('accuracy', metrics.accuracy_score(np.array(y_test), Ada_pred) )\n",
    "print()\n",
    "print('precision', metrics.precision_score(np.array(y_test), Ada_pred) )\n",
    "print()\n",
    "print('recall', metrics.recall_score(np.array(y_test), Ada_pred) )\n",
    "print()\n",
    "print('f1', metrics.f1_score(np.array(y_test), Ada_pred) )"
   ]
  },
  {
   "cell_type": "code",
   "execution_count": 94,
   "id": "complicated-programming",
   "metadata": {},
   "outputs": [],
   "source": [
    "# 파라미터 수정\n",
    "Ada_model = AdaBoostClassifier(n_estimators=50,\n",
    "                         learning_rate=0.1,\n",
    "                        random_state = 0)\n",
    "\n",
    "# fitting\n",
    "model = Ada_model.fit(X_train, y_train)\n",
    "\n",
    "# predict\n",
    "Ada_pred = model.predict(X_test)"
   ]
  },
  {
   "cell_type": "code",
   "execution_count": 95,
   "id": "bearing-acrobat",
   "metadata": {},
   "outputs": [
    {
     "name": "stdout",
     "output_type": "stream",
     "text": [
      "accuracy 0.7699115044247787\n",
      "\n",
      "precision 0.71875\n",
      "\n",
      "recall 0.575\n",
      "\n",
      "f1 0.6388888888888888\n"
     ]
    }
   ],
   "source": [
    "# 사이킷런을 활용하기\n",
    "print('accuracy', metrics.accuracy_score(np.array(y_test), Ada_pred) )\n",
    "print()\n",
    "print('precision', metrics.precision_score(np.array(y_test), Ada_pred) )\n",
    "print()\n",
    "print('recall', metrics.recall_score(np.array(y_test), Ada_pred) )\n",
    "print()\n",
    "print('f1', metrics.f1_score(np.array(y_test), Ada_pred) )"
   ]
  },
  {
   "cell_type": "markdown",
   "id": "designed-uniform",
   "metadata": {},
   "source": [
    "- 정밀도 기준으로는 learning_rate = 0.1로 설정하는게 가장 좋은 성능을 낸다.\n",
    "- Adaboost는 파라미터가 많지 않아 데이터가 크지 않다면 파라미터에 따른 성능 확인이 어렵지 않을거라 생각한다."
   ]
  }
 ],
 "metadata": {
  "kernelspec": {
   "display_name": "Python 3",
   "language": "python",
   "name": "python3"
  },
  "language_info": {
   "codemirror_mode": {
    "name": "ipython",
    "version": 3
   },
   "file_extension": ".py",
   "mimetype": "text/x-python",
   "name": "python",
   "nbconvert_exporter": "python",
   "pygments_lexer": "ipython3",
   "version": "3.7.10"
  }
 },
 "nbformat": 4,
 "nbformat_minor": 5
}
